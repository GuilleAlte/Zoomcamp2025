{
 "cells": [
  {
   "cell_type": "code",
   "execution_count": 2,
   "id": "d5b6ddb4-f59a-4268-85dd-3cfedd709252",
   "metadata": {},
   "outputs": [
    {
     "name": "stdout",
     "output_type": "stream",
     "text": [
      "Hello mate\n"
     ]
    }
   ],
   "source": [
    "print ('Hello mate')"
   ]
  },
  {
   "cell_type": "code",
   "execution_count": null,
   "id": "d99c9433-69fe-4336-9353-95007611199c",
   "metadata": {},
   "outputs": [],
   "source": []
  }
 ],
 "metadata": {
  "kernelspec": {
   "display_name": "Python 3 (ipykernel)",
   "language": "python",
   "name": "python3"
  },
  "language_info": {
   "codemirror_mode": {
    "name": "ipython",
    "version": 3
   },
   "file_extension": ".py",
   "mimetype": "text/x-python",
   "name": "python",
   "nbconvert_exporter": "python",
   "pygments_lexer": "ipython3",
   "version": "3.12.1"
  }
 },
 "nbformat": 4,
 "nbformat_minor": 5
}
